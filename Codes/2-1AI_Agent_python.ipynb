{
 "cells": [
  {
   "cell_type": "code",
   "execution_count": 35,
   "metadata": {},
   "outputs": [],
   "source": [
    "# 입력 받는 타입으 str, 그 외 값을 받는가면 str로 casting\n",
    "def add_tool(input_str : str) -> str:\n",
    "    try:\n",
    "        arr = list(map(int, input_str.split()))\n",
    "        return str(sum(arr))\n",
    "    except Exception as e:\n",
    "        return f\"에러: {str(e)}\"\n",
    "\n",
    "    "
   ]
  },
  {
   "cell_type": "code",
   "execution_count": 9,
   "metadata": {},
   "outputs": [],
   "source": [
    "# 일반대화와 두 수를 더하는 2가지의 TOOL 정의\n",
    "TOOL_PROMPT_DISC=\"\"\"\n",
    "당신은 다음 도구를 사용할 수 있습니다:\n",
    "\n",
    "도구 이름: AddTool\n",
    "기능: 두 숫자를 더합니다.\n",
    "입력 예시: \"3 5\"\n",
    "\n",
    "\n",
    "도구 이름: ChatTool\n",
    "기능: 일반적인 질문이나 대화에 답변합니다. 계산, 검색, 도구 실행이 필요하지 않은 경우 사용하세요.\n",
    "입력 예시: \"오늘 기분이 어때?\" 또는 \"AI는 어떻게 작동해?\"\n",
    "\n",
    "사용자가 질문하면, 어떤 도구를 사용할지 판단하고 다음 형식으로 대답하세요:\n",
    "\n",
    "사용할 도구: <도구 이름>\n",
    "입력값: <도구에 줄 입력값>\n",
    "\n",
    "사용자의 질문: \"{question}\"\n",
    "\"\"\""
   ]
  },
  {
   "cell_type": "code",
   "execution_count": null,
   "metadata": {},
   "outputs": [],
   "source": [
    "from langchain_community.chat_models import ChatOpenAI\n",
    "\n",
    "api_key = ''\n",
    "model = 'gpt-4o-mini'\n",
    "llm = ChatOpenAI(api_key=api_key, model=model)\n",
    "\n",
    "query = \"3더하기 5의 값은 뭐지?\"\n",
    "\n",
    "TOOL_PROMPT = TOOL_PROMPT_DISC.format(question=query)\n",
    "TOOL_RESULT = llm.invoke(TOOL_PROMPT)"
   ]
  },
  {
   "cell_type": "code",
   "execution_count": null,
   "metadata": {},
   "outputs": [],
   "source": [
    "TOOL_RESULT.content"
   ]
  },
  {
   "cell_type": "code",
   "execution_count": 41,
   "metadata": {},
   "outputs": [
    {
     "name": "stdout",
     "output_type": "stream",
     "text": [
      "AddTool\n",
      "3 5\n",
      "8\n",
      "content='3 더하기 5의 값은 8입니다.' additional_kwargs={} response_metadata={'token_usage': {'completion_tokens': 13, 'prompt_tokens': 46, 'total_tokens': 59, 'completion_tokens_details': {'accepted_prediction_tokens': 0, 'audio_tokens': 0, 'reasoning_tokens': 0, 'rejected_prediction_tokens': 0}, 'prompt_tokens_details': {'audio_tokens': 0, 'cached_tokens': 0}}, 'model_name': 'gpt-4o-mini', 'system_fingerprint': 'fp_80cf447eee', 'finish_reason': 'stop', 'logprobs': None} id='run-9eb24219-7f6e-4b25-8d75-affc1a49eed4-0'\n"
     ]
    }
   ],
   "source": [
    "import re\n",
    "match = re.search(r\"사용할 도구:\\s*(\\w+)\\s*입력값:\\s*[\\\"']?(.+?)[\\\"']?$\", TOOL_RESULT.content.strip(), re.DOTALL)\n",
    "\n",
    "tool = match.group(1)\n",
    "tool_input = match.group(2)\n",
    "print(tool)\n",
    "print(tool_input)\n",
    "\n",
    "if tool == 'AddTool':\n",
    "    tool_result = add_tool(tool_input)\n",
    "    print(tool_result)\n",
    "    FINAL_PROMPT_DISC = \"\"\"\n",
    "        사용자의 질문: \"{question}\"\n",
    "        도구 실행 결과: {result}\n",
    "        이제 사용자에게 자연어로 대답하세요.\n",
    "    \"\"\"\n",
    "    FINAL_PROMPT = FINAL_PROMPT_DISC.format(question = query, result=tool_result)\n",
    "    print(llm.invoke(FINAL_PROMPT))\n",
    "elif tool == 'ChatTool':\n",
    "    llm.invoke(tool_input)"
   ]
  },
  {
   "cell_type": "code",
   "execution_count": null,
   "metadata": {},
   "outputs": [],
   "source": [
    "\n"
   ]
  }
 ],
 "metadata": {
  "kernelspec": {
   "display_name": ".venv",
   "language": "python",
   "name": "python3"
  },
  "language_info": {
   "codemirror_mode": {
    "name": "ipython",
    "version": 3
   },
   "file_extension": ".py",
   "mimetype": "text/x-python",
   "name": "python",
   "nbconvert_exporter": "python",
   "pygments_lexer": "ipython3",
   "version": "3.11.9"
  }
 },
 "nbformat": 4,
 "nbformat_minor": 2
}
