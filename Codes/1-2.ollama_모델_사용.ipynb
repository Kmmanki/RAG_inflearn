{
 "cells": [
  {
   "cell_type": "code",
   "execution_count": 2,
   "metadata": {},
   "outputs": [
    {
     "name": "stdout",
     "output_type": "stream",
     "text": [
      "Collecting langchain-ollama\n",
      "  Downloading langchain_ollama-0.3.0-py3-none-any.whl.metadata (1.5 kB)\n",
      "Collecting ollama<1,>=0.4.4 (from langchain-ollama)\n",
      "  Downloading ollama-0.4.7-py3-none-any.whl.metadata (4.7 kB)\n",
      "Requirement already satisfied: langchain-core<1.0.0,>=0.3.47 in c:\\users\\홍은기\\desktop\\rag\\rag_inflearn\\.venv\\lib\\site-packages (from langchain-ollama) (0.3.48)\n",
      "Requirement already satisfied: langsmith<0.4,>=0.1.125 in c:\\users\\홍은기\\desktop\\rag\\rag_inflearn\\.venv\\lib\\site-packages (from langchain-core<1.0.0,>=0.3.47->langchain-ollama) (0.3.18)\n",
      "Requirement already satisfied: tenacity!=8.4.0,<10.0.0,>=8.1.0 in c:\\users\\홍은기\\desktop\\rag\\rag_inflearn\\.venv\\lib\\site-packages (from langchain-core<1.0.0,>=0.3.47->langchain-ollama) (9.0.0)\n",
      "Requirement already satisfied: jsonpatch<2.0,>=1.33 in c:\\users\\홍은기\\desktop\\rag\\rag_inflearn\\.venv\\lib\\site-packages (from langchain-core<1.0.0,>=0.3.47->langchain-ollama) (1.33)\n",
      "Requirement already satisfied: PyYAML>=5.3 in c:\\users\\홍은기\\desktop\\rag\\rag_inflearn\\.venv\\lib\\site-packages (from langchain-core<1.0.0,>=0.3.47->langchain-ollama) (6.0.2)\n",
      "Requirement already satisfied: packaging<25,>=23.2 in c:\\users\\홍은기\\desktop\\rag\\rag_inflearn\\.venv\\lib\\site-packages (from langchain-core<1.0.0,>=0.3.47->langchain-ollama) (24.2)\n",
      "Requirement already satisfied: typing-extensions>=4.7 in c:\\users\\홍은기\\desktop\\rag\\rag_inflearn\\.venv\\lib\\site-packages (from langchain-core<1.0.0,>=0.3.47->langchain-ollama) (4.12.2)\n",
      "Requirement already satisfied: pydantic<3.0.0,>=2.5.2 in c:\\users\\홍은기\\desktop\\rag\\rag_inflearn\\.venv\\lib\\site-packages (from langchain-core<1.0.0,>=0.3.47->langchain-ollama) (2.10.6)\n",
      "Requirement already satisfied: httpx<0.29,>=0.27 in c:\\users\\홍은기\\desktop\\rag\\rag_inflearn\\.venv\\lib\\site-packages (from ollama<1,>=0.4.4->langchain-ollama) (0.28.1)\n",
      "Requirement already satisfied: anyio in c:\\users\\홍은기\\desktop\\rag\\rag_inflearn\\.venv\\lib\\site-packages (from httpx<0.29,>=0.27->ollama<1,>=0.4.4->langchain-ollama) (4.9.0)\n",
      "Requirement already satisfied: certifi in c:\\users\\홍은기\\desktop\\rag\\rag_inflearn\\.venv\\lib\\site-packages (from httpx<0.29,>=0.27->ollama<1,>=0.4.4->langchain-ollama) (2025.1.31)\n",
      "Requirement already satisfied: httpcore==1.* in c:\\users\\홍은기\\desktop\\rag\\rag_inflearn\\.venv\\lib\\site-packages (from httpx<0.29,>=0.27->ollama<1,>=0.4.4->langchain-ollama) (1.0.7)\n",
      "Requirement already satisfied: idna in c:\\users\\홍은기\\desktop\\rag\\rag_inflearn\\.venv\\lib\\site-packages (from httpx<0.29,>=0.27->ollama<1,>=0.4.4->langchain-ollama) (3.10)\n",
      "Requirement already satisfied: h11<0.15,>=0.13 in c:\\users\\홍은기\\desktop\\rag\\rag_inflearn\\.venv\\lib\\site-packages (from httpcore==1.*->httpx<0.29,>=0.27->ollama<1,>=0.4.4->langchain-ollama) (0.14.0)\n",
      "Requirement already satisfied: jsonpointer>=1.9 in c:\\users\\홍은기\\desktop\\rag\\rag_inflearn\\.venv\\lib\\site-packages (from jsonpatch<2.0,>=1.33->langchain-core<1.0.0,>=0.3.47->langchain-ollama) (3.0.0)\n",
      "Requirement already satisfied: orjson<4.0.0,>=3.9.14 in c:\\users\\홍은기\\desktop\\rag\\rag_inflearn\\.venv\\lib\\site-packages (from langsmith<0.4,>=0.1.125->langchain-core<1.0.0,>=0.3.47->langchain-ollama) (3.10.16)\n",
      "Requirement already satisfied: requests<3,>=2 in c:\\users\\홍은기\\desktop\\rag\\rag_inflearn\\.venv\\lib\\site-packages (from langsmith<0.4,>=0.1.125->langchain-core<1.0.0,>=0.3.47->langchain-ollama) (2.32.3)\n",
      "Requirement already satisfied: requests-toolbelt<2.0.0,>=1.0.0 in c:\\users\\홍은기\\desktop\\rag\\rag_inflearn\\.venv\\lib\\site-packages (from langsmith<0.4,>=0.1.125->langchain-core<1.0.0,>=0.3.47->langchain-ollama) (1.0.0)\n",
      "Requirement already satisfied: zstandard<0.24.0,>=0.23.0 in c:\\users\\홍은기\\desktop\\rag\\rag_inflearn\\.venv\\lib\\site-packages (from langsmith<0.4,>=0.1.125->langchain-core<1.0.0,>=0.3.47->langchain-ollama) (0.23.0)\n",
      "Requirement already satisfied: annotated-types>=0.6.0 in c:\\users\\홍은기\\desktop\\rag\\rag_inflearn\\.venv\\lib\\site-packages (from pydantic<3.0.0,>=2.5.2->langchain-core<1.0.0,>=0.3.47->langchain-ollama) (0.7.0)\n",
      "Requirement already satisfied: pydantic-core==2.27.2 in c:\\users\\홍은기\\desktop\\rag\\rag_inflearn\\.venv\\lib\\site-packages (from pydantic<3.0.0,>=2.5.2->langchain-core<1.0.0,>=0.3.47->langchain-ollama) (2.27.2)\n",
      "Requirement already satisfied: charset-normalizer<4,>=2 in c:\\users\\홍은기\\desktop\\rag\\rag_inflearn\\.venv\\lib\\site-packages (from requests<3,>=2->langsmith<0.4,>=0.1.125->langchain-core<1.0.0,>=0.3.47->langchain-ollama) (3.4.1)\n",
      "Requirement already satisfied: urllib3<3,>=1.21.1 in c:\\users\\홍은기\\desktop\\rag\\rag_inflearn\\.venv\\lib\\site-packages (from requests<3,>=2->langsmith<0.4,>=0.1.125->langchain-core<1.0.0,>=0.3.47->langchain-ollama) (2.3.0)\n",
      "Requirement already satisfied: sniffio>=1.1 in c:\\users\\홍은기\\desktop\\rag\\rag_inflearn\\.venv\\lib\\site-packages (from anyio->httpx<0.29,>=0.27->ollama<1,>=0.4.4->langchain-ollama) (1.3.1)\n",
      "Downloading langchain_ollama-0.3.0-py3-none-any.whl (20 kB)\n",
      "Downloading ollama-0.4.7-py3-none-any.whl (13 kB)\n",
      "Installing collected packages: ollama, langchain-ollama\n",
      "Successfully installed langchain-ollama-0.3.0 ollama-0.4.7\n",
      "Note: you may need to restart the kernel to use updated packages.\n"
     ]
    }
   ],
   "source": [
    "%pip install langchain-ollama"
   ]
  },
  {
   "cell_type": "code",
   "execution_count": 9,
   "metadata": {},
   "outputs": [],
   "source": [
    "from langchain_ollama.chat_models import ChatOllama\n",
    "\n",
    "llm = ChatOllama(model=\"exaone3.5:2.4b\")"
   ]
  },
  {
   "cell_type": "code",
   "execution_count": 10,
   "metadata": {},
   "outputs": [],
   "source": [
    "messages = [\n",
    "    (\n",
    "        \"system\",\n",
    "        \"You are a helpful assistant that translates English to French. Translate the user sentence.\",\n",
    "    ),\n",
    "    (\"human\", \"I love programming.\"),\n",
    "]\n",
    "ai_msg = llm.invoke(messages)\n"
   ]
  },
  {
   "cell_type": "code",
   "execution_count": 12,
   "metadata": {},
   "outputs": [
    {
     "data": {
      "text/plain": [
       "\"J'adore le programming.\""
      ]
     },
     "execution_count": 12,
     "metadata": {},
     "output_type": "execute_result"
    }
   ],
   "source": [
    "ai_msg.content"
   ]
  },
  {
   "cell_type": "code",
   "execution_count": 13,
   "metadata": {},
   "outputs": [
    {
     "data": {
      "text/plain": [
       "AIMessage(content='저는 EXAONE으로서 LG AI 연구원에서 개발된 모델로, 실시간 정보 제공이나 특정 플랫폼(예: 인프런)의 최신 강의 목록에 대한 직접적인 접근 권한이 없습니다. 따라서 현재 제공 가능한 최신 강의 목록에 대해 실시간으로 알려드리기 어렵습니다. 인프런 웹사이트나 공식 앱을 직접 확인하시는 것이 가장 정확한 방법일 것입니다. 특정 주제나 분야에 관심이 있으시다면, 웹사이트 내 검색 기능을 활용해 보시는 것도 좋은 방법입니다.', additional_kwargs={}, response_metadata={'model': 'exaone3.5:2.4b', 'created_at': '2025-03-26T05:08:42.6811524Z', 'done': True, 'done_reason': 'stop', 'total_duration': 15909508800, 'load_duration': 37791500, 'prompt_eval_count': 44, 'prompt_eval_duration': 2145000000, 'eval_count': 114, 'eval_duration': 13725000000, 'message': Message(role='assistant', content='', images=None, tool_calls=None)}, id='run-20cd8739-b5cd-4aa2-9fcc-9b592fd9b3e3-0', usage_metadata={'input_tokens': 44, 'output_tokens': 114, 'total_tokens': 158})"
      ]
     },
     "execution_count": 13,
     "metadata": {},
     "output_type": "execute_result"
    }
   ],
   "source": [
    "llm.invoke(\"인프런에는 어떤 강의가 있어?\")"
   ]
  },
  {
   "cell_type": "code",
   "execution_count": null,
   "metadata": {},
   "outputs": [],
   "source": []
  }
 ],
 "metadata": {
  "kernelspec": {
   "display_name": ".venv",
   "language": "python",
   "name": "python3"
  },
  "language_info": {
   "codemirror_mode": {
    "name": "ipython",
    "version": 3
   },
   "file_extension": ".py",
   "mimetype": "text/x-python",
   "name": "python",
   "nbconvert_exporter": "python",
   "pygments_lexer": "ipython3",
   "version": "3.11.9"
  }
 },
 "nbformat": 4,
 "nbformat_minor": 2
}
