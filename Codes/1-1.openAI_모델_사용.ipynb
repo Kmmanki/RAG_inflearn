{
 "cells": [
  {
   "cell_type": "code",
   "execution_count": 17,
   "metadata": {},
   "outputs": [
    {
     "data": {
      "text/plain": [
       "True"
      ]
     },
     "execution_count": 17,
     "metadata": {},
     "output_type": "execute_result"
    }
   ],
   "source": [
    "from dotenv import load_dotenv\n",
    "load_dotenv(dotenv_path=\"../.env\")"
   ]
  },
  {
   "cell_type": "code",
   "execution_count": 20,
   "metadata": {},
   "outputs": [],
   "source": [
    "from langchain_openai import ChatOpenAI\n",
    "\n",
    "llm = ChatOpenAI(model='gpt-4o-mini')"
   ]
  },
  {
   "cell_type": "code",
   "execution_count": 21,
   "metadata": {},
   "outputs": [
    {
     "data": {
      "text/plain": [
       "AIMessage(content='인프런(Inflearn)은 다양한 주제를 다루는 온라인 강의 플랫폼으로, 주로 IT 및 프로그래밍 관련 강의가 많습니다. 강의의 주요 카테고리는 다음과 같습니다:\\n\\n1. **프로그래밍**: Python, Java, JavaScript, C++, Ruby 등 다양한 언어 강의\\n2. **웹 개발**: 프론트엔드(HTML, CSS, JavaScript, React, Vue.js 등) 및 백엔드(Node.js, Django, Flask 등)\\n3. **모바일 개발**: Android, iOS 개발 관련 강의\\n4. **데이터 과학**: 데이터 분석, 머신러닝, 딥러닝 관련 강의\\n5. **클라우드 컴퓨팅**: AWS, Azure, Google Cloud 관련 강의\\n6. **UI/UX 디자인**: 디자인 원칙 및 도구 사용법 관련 강의\\n7. **게임 개발**: Unity, Unreal Engine 등을 이용한 게임 개발 관련 강의\\n8. **DevOps**: CI/CD, 컨테이너화 도구(Docker, Kubernetes 등) 관련 강의\\n\\n제공되는 강의는 강사의 경험이나 수업 스타일에 따라 다양하며, 대부분 직접 수강 후 피드백을 받을 수 있습니다. 가장 최근의 강의 목록이나 세부 정보를 알고 싶다면 인프런 공식 웹사이트를 방문해보시는 것이 좋습니다.', additional_kwargs={'refusal': None}, response_metadata={'token_usage': {'completion_tokens': 299, 'prompt_tokens': 18, 'total_tokens': 317, 'completion_tokens_details': {'accepted_prediction_tokens': 0, 'audio_tokens': 0, 'reasoning_tokens': 0, 'rejected_prediction_tokens': 0}, 'prompt_tokens_details': {'audio_tokens': 0, 'cached_tokens': 0}}, 'model_name': 'gpt-4o-mini-2024-07-18', 'system_fingerprint': 'fp_b8bc95a0ac', 'id': 'chatcmpl-BFCWY2gePGdGKdPID2oFfFhLuNXmJ', 'finish_reason': 'stop', 'logprobs': None}, id='run-8b7ce2ff-fd93-44f3-a02a-393f8a0cff84-0', usage_metadata={'input_tokens': 18, 'output_tokens': 299, 'total_tokens': 317, 'input_token_details': {'audio': 0, 'cache_read': 0}, 'output_token_details': {'audio': 0, 'reasoning': 0}})"
      ]
     },
     "execution_count": 21,
     "metadata": {},
     "output_type": "execute_result"
    }
   ],
   "source": [
    "llm.invoke(\"인프런에 어떤 강의가 있나요?\")"
   ]
  }
 ],
 "metadata": {
  "kernelspec": {
   "display_name": ".venv",
   "language": "python",
   "name": "python3"
  },
  "language_info": {
   "codemirror_mode": {
    "name": "ipython",
    "version": 3
   },
   "file_extension": ".py",
   "mimetype": "text/x-python",
   "name": "python",
   "nbconvert_exporter": "python",
   "pygments_lexer": "ipython3",
   "version": "3.11.9"
  }
 },
 "nbformat": 4,
 "nbformat_minor": 2
}
