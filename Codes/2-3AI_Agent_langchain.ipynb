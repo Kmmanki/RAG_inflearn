{
 "cells": [
  {
   "cell_type": "code",
   "execution_count": 19,
   "metadata": {},
   "outputs": [],
   "source": [
    "def add_tool(input_str : str) -> str:\n",
    "    # print(input_str)\n",
    "    try:\n",
    "        arr = list(map(int, input_str.split()))\n",
    "        return str(sum(arr))\n",
    "    except Exception as e:\n",
    "        return f\"에러: {str(e)}\""
   ]
  },
  {
   "cell_type": "code",
   "execution_count": 20,
   "metadata": {},
   "outputs": [],
   "source": [
    "def chat_tool(input_st: str):\n",
    "    return llm.invoke(input_st)\n"
   ]
  },
  {
   "cell_type": "code",
   "execution_count": null,
   "metadata": {},
   "outputs": [],
   "source": [
    "from langchain.agents import initialize_agent, Tool\n",
    "from langchain.agents.agent_types import AgentType\n",
    "from langchain_community.chat_models import ChatOpenAI\n",
    "api_key = ''\n",
    "model = 'gpt-4o-mini'\n",
    "\n",
    "llm = ChatOpenAI(api_key=api_key, model=model)\n",
    "\n",
    "tools = [\n",
    "    Tool( name= 'AddTool', func=add_tool, description=\"두 숫자를 더합니다. 입력은 두 숫자를 공백으로 구분한 문자열로 입력합니다. 입력 형식: 3 5\"),\n",
    "    Tool( name= 'ChatTool', func=chat_tool\n",
    "         , description=\"일반적인 질문이나 대화에 답변합니다. 계산, 검색, 도구 실행이 필요하지 않은 경우 사용하세요. 입력 예시: '오늘 기분이 어때?' 또는 'AI는 어떻게 작동해?'\")\n",
    "]\n"
   ]
  },
  {
   "cell_type": "code",
   "execution_count": 26,
   "metadata": {},
   "outputs": [],
   "source": [
    "agent = initialize_agent(\n",
    "    tools, llm, agent=AgentType.ZERO_SHOT_REACT_DESCRIPTION, verbose=True\n",
    ")"
   ]
  },
  {
   "cell_type": "code",
   "execution_count": 27,
   "metadata": {},
   "outputs": [
    {
     "name": "stdout",
     "output_type": "stream",
     "text": [
      "\n",
      "\n",
      "\u001b[1m> Entering new AgentExecutor chain...\u001b[0m\n",
      "\u001b[32;1m\u001b[1;3m3하고 7을 더하는 계산이 필요하다.  \n",
      "Action: AddTool  \n",
      "Action Input: '3 7'  \u001b[0m\n",
      "Observation: \u001b[36;1m\u001b[1;3m에러: invalid literal for int() with base 10: \"'3\"\u001b[0m\n",
      "Thought:\u001b[32;1m\u001b[1;3m입력 형식이 잘못된 것 같다. 숫자들에 불필요한 따옴표가 포함되어 있는 것 같다. 따옴표 없이 다시 시도해 보아야겠다.  \n",
      "Action: AddTool  \n",
      "Action Input: '3 7'  \u001b[0m\n",
      "Observation: \u001b[36;1m\u001b[1;3m에러: invalid literal for int() with base 10: \"'3\"\u001b[0m\n",
      "Thought:\u001b[32;1m\u001b[1;3m입력 형식이 여전히 잘못된 것 같다. 따옴표가 여전히 포함되어 있는 것 같지 않지만, 정확한 문제는 확인해봐야겠다.  \n",
      "Action: AddTool  \n",
      "Action Input: '3 7'  \u001b[0m\n",
      "Observation: \u001b[36;1m\u001b[1;3m에러: invalid literal for int() with base 10: \"'3\"\u001b[0m\n",
      "Thought:\u001b[32;1m\u001b[1;3m입력 형식에 문제가 있는 것 같다. 두 숫자를 더하는 방법을 다시 살펴봐야겠다.  \n",
      "Action: AddTool  \n",
      "Action Input: '3 7'  \u001b[0m\n",
      "Observation: \u001b[36;1m\u001b[1;3m에러: invalid literal for int() with base 10: \"'3\"\u001b[0m\n",
      "Thought:\u001b[32;1m\u001b[1;3m입력 형식에 문제가 발생하고 있다. 숫자를 더하기 위해 입력을 정확하게 조정해야 할 것 같다.  \n",
      "Action: AddTool  \n",
      "Action Input: '3 7'  \u001b[0m\n",
      "Observation: \u001b[36;1m\u001b[1;3m에러: invalid literal for int() with base 10: \"'3\"\u001b[0m\n",
      "Thought:\u001b[32;1m\u001b[1;3m입력 형식이 계속해서 잘못된 결과를 초래하고 있다. 문제를 해결하기 위해 입력을 다시 확인하고 수정해야 할 것 같다.  \n",
      "Action: AddTool  \n",
      "Action Input: '3 7'  \u001b[0m\n",
      "Observation: \u001b[36;1m\u001b[1;3m에러: invalid literal for int() with base 10: \"'3\"\u001b[0m\n",
      "Thought:\u001b[32;1m\u001b[1;3m입력 형식에 문제가 발생하고 있는 것 같다. 계속해서 같은 오류가 발생하고 있으므로, 다른 방법을 통해 질문에 답변해야 할 것 같다.  \n",
      "Action: ChatTool  \n",
      "Action Input: '3하고 7을 더해줘.'  \u001b[0m\n",
      "Observation: \u001b[33;1m\u001b[1;3mcontent='3과 7을 더하면 10입니다.' additional_kwargs={} response_metadata={'token_usage': {'completion_tokens': 12, 'prompt_tokens': 17, 'total_tokens': 29, 'completion_tokens_details': {'accepted_prediction_tokens': 0, 'audio_tokens': 0, 'reasoning_tokens': 0, 'rejected_prediction_tokens': 0}, 'prompt_tokens_details': {'audio_tokens': 0, 'cached_tokens': 0}}, 'model_name': 'gpt-4o-mini', 'system_fingerprint': 'fp_80cf447eee', 'finish_reason': 'stop', 'logprobs': None} id='run-3c1360fb-0f39-4f8c-9932-95fe87de0518-0'\u001b[0m\n",
      "Thought:\u001b[32;1m\u001b[1;3mI now know the final answer.  \n",
      "Final Answer: 3과 7을 더하면 10입니다.\u001b[0m\n",
      "\n",
      "\u001b[1m> Finished chain.\u001b[0m\n",
      "3과 7을 더하면 10입니다.\n"
     ]
    }
   ],
   "source": [
    "response = agent.run(\"3하고 7을 더해줘.\")\n",
    "print(response)"
   ]
  },
  {
   "cell_type": "code",
   "execution_count": 24,
   "metadata": {},
   "outputs": [
    {
     "data": {
      "text/plain": [
       "'10'"
      ]
     },
     "execution_count": 24,
     "metadata": {},
     "output_type": "execute_result"
    }
   ],
   "source": [
    "add_tool('3 7')"
   ]
  }
 ],
 "metadata": {
  "kernelspec": {
   "display_name": ".venv",
   "language": "python",
   "name": "python3"
  },
  "language_info": {
   "codemirror_mode": {
    "name": "ipython",
    "version": 3
   },
   "file_extension": ".py",
   "mimetype": "text/x-python",
   "name": "python",
   "nbconvert_exporter": "python",
   "pygments_lexer": "ipython3",
   "version": "3.11.9"
  }
 },
 "nbformat": 4,
 "nbformat_minor": 2
}
